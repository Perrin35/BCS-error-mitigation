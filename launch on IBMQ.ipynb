{
 "cells": [
  {
   "cell_type": "code",
   "execution_count": 3,
   "id": "c40c6e86",
   "metadata": {},
   "outputs": [
    {
     "name": "stderr",
     "output_type": "stream",
     "text": [
      "ibmqfactory.load_account:WARNING:2023-02-14 11:14:14,884: Credentials are already in use. The existing account in the session will be replaced.\n"
     ]
    }
   ],
   "source": [
    "import numpy as np\n",
    "\n",
    "# importing Qiskit\n",
    "from qiskit import IBMQ\n",
    "from qiskit import QuantumCircuit, transpile\n",
    "from qiskit.tools import job_monitor\n",
    "from qiskit.providers.ibmq.managed import IBMQJobManager\n",
    "\n",
    "\n",
    "provider = IBMQ.load_account()\n",
    "\n",
    "provider=IBMQ.get_provider(hub='ibm-q-fraunhofer')\n",
    "backend = provider.get_backend('ibm_lagos')\n",
    "\n"
   ]
  },
  {
   "cell_type": "code",
   "execution_count": null,
   "id": "02ab1d2b",
   "metadata": {},
   "outputs": [],
   "source": [
    "#LAUNCH JOBS ON REAL BACKEND\n",
    "\n",
    "\n",
    "#Parameters (editable)\n",
    "step=1 #Trotter step to lauch on real backend\n",
    "nb_twirls=300 #number of twirls\n",
    "nb_shots=32000 #number of shots\n",
    "measurement='ZZZ'\n",
    "#measurement='XYZ'\n",
    "randomized_compiling='standard'\n",
    "#randomized_compiling='crosstalk'\n",
    "ini_lay=[18,21,23] #qubit on which is performed the simulation\n",
    "\n",
    "\n",
    "g=0.5\n",
    "dt=0.2\n",
    "L=backend.configuration().num_qubits\n",
    "\n",
    "qc_meas=list([] for _ in range(2*L+8))#Quantum Circuit for measurement calibration used for readout error correction\n",
    "\n",
    "#protocol 1\n",
    "for j in range(2):\n",
    "    qc=QuantumCircuit(1,1)\n",
    "    if j==1:\n",
    "        qc.x(0) #initialization in state 1\n",
    "    qc.measure(0,0)\n",
    "    for i in range(L):\n",
    "        qc_meas[2*i+j]=transpile(qc,backend=backend,optimization_level=0,\n",
    "                                    basis_gates=['cx','x','sx','rz','id'],initial_layout=[i])#measure each qubit separately\n",
    "\n",
    "#protocol 2\n",
    "for k in range(8):\n",
    "    qc=QuantumCircuit(3,3)#initialisation of the 8 differents bit string configurations\n",
    "    if k//2*2!=k:\n",
    "        qc.x(0)\n",
    "    if (k//2)//2*2!=(k//2):\n",
    "        qc.x(1)\n",
    "    if k>=4:\n",
    "        qc.x(2)\n",
    "    qc.barrier()\n",
    "    qc.measure(0,0)\n",
    "    qc.measure(1,1)\n",
    "    qc.measure(2,2)\n",
    "    qc_meas[2*L+k]=transpile(qc,backend=backend,optimization_level=0,\n",
    "                            basis_gates=['cx','x','sx','rz','id'],initial_layout=ini_lay)#measure all the qubits used \n",
    "\n",
    "job_manager = IBMQJobManager()      \n",
    "T=dt*step\n",
    "\n",
    "PATH_trotter='data/'+measurement+'/T='+str(round(T,1))+'/randomized_compiling/Quantum_Circuit/trotter_'\n",
    "PATH_estimation='data/ZZZ/T='+str(round(T,1))+'/estimation_circuit/Quantum_Circuit/estimation_'\n",
    "\n",
    "name=randomized_compiling+'_twirl_g='+str(g)+'_dt='+str(dt)+'_backend='+str(backend)\n",
    "\n",
    "\n",
    "#launch BCS raw circuit\n",
    "qc_trot=QuantumCircuit.from_qasm_file(PATH_trotter+'/trotter_g='+str(g)+'_dt='+str(dt)+'_backend='+str(backend)+'.qasm')\n",
    "job_trot = backend.run(qc_trot,job_name='Trotter_raw_'+measurement+'_'+randomized_compiling+'_T='+str(round(T,1))\n",
    "                       ,shots=nb_shots)#launch Trotter circuit without any error mitigation protocol\n",
    "\n",
    "#launch measurement calibration circuit for readout error correction\n",
    "job_meas = job_manager.run(qc_meas, backend=backend, name='Meas_'+measurement+'_'+randomized_compiling+\n",
    "                           '_T='+str(round(T,1)),shots=nb_shots)#launch Quantum Circuit for readout error correction\n",
    "\n",
    "#launch the different randomized version of the Trotter circuit\n",
    "qc_randomized=list(QuantumCircuit.from_qasm_file(PATH_trotter+name+'_'+str(k)+'.qasm') for k in range(nb_twirls))    \n",
    "\n",
    "job_randomized = job_manager.run(qc_randomized, backend=backend, name='Trotter_'+measurement+'_'+randomized_compiling+\n",
    "                                 '_T='+str(round(T,1)),shots=nb_shots)#launch Trotter circuit with randomized compiling\n",
    "\n",
    "#launch noise estimation circuits\n",
    "qc_estimation=list(QuantumCircuit.from_qasm_file(PATH_estimation+name+'_'+str(k)+'.qasm') for k in range(nb_twirls))   \n",
    "\n",
    "job_estimation = job_manager.run(qc_estimation, backend=backend, name='Estimation_'+measurement+'_'+randomized_compiling+\n",
    "                                 '_T='+str(round(T,1)),shots=nb_shots)#launch estimation circuit with randomized compiling\n",
    "    "
   ]
  },
  {
   "cell_type": "code",
   "execution_count": null,
   "id": "5e8540d6",
   "metadata": {},
   "outputs": [],
   "source": []
  }
 ],
 "metadata": {
  "kernelspec": {
   "display_name": "Python 3 (ipykernel)",
   "language": "python",
   "name": "python3"
  },
  "language_info": {
   "codemirror_mode": {
    "name": "ipython",
    "version": 3
   },
   "file_extension": ".py",
   "mimetype": "text/x-python",
   "name": "python",
   "nbconvert_exporter": "python",
   "pygments_lexer": "ipython3",
   "version": "3.9.7"
  }
 },
 "nbformat": 4,
 "nbformat_minor": 5
}
